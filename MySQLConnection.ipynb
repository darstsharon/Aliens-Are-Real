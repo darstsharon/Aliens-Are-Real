{
  "nbformat": 4,
  "nbformat_minor": 0,
  "metadata": {
    "colab": {
      "name": "Copy of Untitled6.ipynb",
      "version": "0.3.2",
      "provenance": [],
      "include_colab_link": true
    },
    "kernelspec": {
      "name": "python3",
      "display_name": "Python 3"
    }
  },
  "cells": [
    {
      "cell_type": "markdown",
      "metadata": {
        "id": "view-in-github",
        "colab_type": "text"
      },
      "source": [
        "<a href=\"https://colab.research.google.com/github/darstsharon/Aliens-Are-Real/blob/master/MySQLConnection.ipynb\" target=\"_parent\"><img src=\"https://colab.research.google.com/assets/colab-badge.svg\" alt=\"Open In Colab\"/></a>"
      ]
    },
    {
      "cell_type": "code",
      "metadata": {
        "id": "WwCDmVIW515q",
        "colab_type": "code",
        "colab": {}
      },
      "source": [
        "import os\n",
        "os.environ[\"JAVA_HOME\"] = \"/usr/lib/jvm/java-8-openjdk-amd64\"\n",
        "os.environ[\"SPARK_HOME\"] = \"/content/spark-2.4.3-bin-hadoop2.7\"\n",
        "import findspark\n",
        "findspark.init()"
      ],
      "execution_count": 0,
      "outputs": []
    },
    {
      "cell_type": "code",
      "metadata": {
        "id": "YFTwsnd_52zc",
        "colab_type": "code",
        "colab": {}
      },
      "source": [
        "from pyspark.sql import SparkSession\n",
        "spark = SparkSession \\\n",
        "    .builder \\\n",
        "    .appName(\"example\") \\\n",
        "    .getOrCreate()"
      ],
      "execution_count": 0,
      "outputs": []
    },
    {
      "cell_type": "code",
      "metadata": {
        "id": "5eH3ON-V575Q",
        "colab_type": "code",
        "colab": {}
      },
      "source": [
        "host = \"cdm1s48crk8itlnr.cbetxkdyhwsb.us-east-1.rds.amazonaws.com\"\n",
        "port = \"3306\"\n",
        "database = \"dcenc28el222sbxf\"\n",
        "table = \"Test\"\n",
        "user = \"nbe7pvcujzbz36kd\"\n",
        "password = \"zyk2l1jq6lmdfrfs\""
      ],
      "execution_count": 0,
      "outputs": []
    },
    {
      "cell_type": "code",
      "metadata": {
        "id": "CsRlgtO06Azv",
        "colab_type": "code",
        "colab": {}
      },
      "source": [
        "data = spark.read.\\\n",
        "    format(\"jdbc\")\\\n",
        "    .option(\"url\", \"jdbc:mysql://{host}:{port}/{database}\".format(host=host, port=port, database=database))\\\n",
        "    .option(\"driver\", \"com.mysql.cj.jdbc.Driver\")\\\n",
        "    .option(\"dbtable\", table)\\\n",
        "    .option(\"user\", user)\\\n",
        "    .option(\"password\", password)\\\n",
        "    .load()"
      ],
      "execution_count": 0,
      "outputs": []
    },
    {
      "cell_type": "code",
      "metadata": {
        "id": "qPCE4tiz6N08",
        "colab_type": "code",
        "outputId": "8b54c1f6-0eec-45ab-86df-04a6e59aa9ef",
        "colab": {
          "base_uri": "https://localhost:8080/",
          "height": 122
        }
      },
      "source": [
        "data.show()"
      ],
      "execution_count": 0,
      "outputs": [
        {
          "output_type": "stream",
          "text": [
            "+---+------+\n",
            "| id|  name|\n",
            "+---+------+\n",
            "|  1|Manuel|\n",
            "+---+------+\n",
            "\n"
          ],
          "name": "stdout"
        }
      ]
    },
    {
      "cell_type": "code",
      "metadata": {
        "id": "msxzIphh6Wod",
        "colab_type": "code",
        "outputId": "d7c5fbce-6ae9-40b9-dc74-af6513643189",
        "colab": {
          "base_uri": "https://localhost:8080/",
          "height": 87
        }
      },
      "source": [
        "data.printSchema()"
      ],
      "execution_count": 0,
      "outputs": [
        {
          "output_type": "stream",
          "text": [
            "root\n",
            " |-- id: integer (nullable = true)\n",
            " |-- name: string (nullable = true)\n",
            "\n"
          ],
          "name": "stdout"
        }
      ]
    },
    {
      "cell_type": "code",
      "metadata": {
        "id": "6s0o572E6v57",
        "colab_type": "code",
        "colab": {}
      },
      "source": [
        ""
      ],
      "execution_count": 0,
      "outputs": []
    }
  ]
}