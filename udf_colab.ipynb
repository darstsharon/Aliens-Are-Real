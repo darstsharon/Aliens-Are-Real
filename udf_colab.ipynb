{
  "nbformat": 4,
  "nbformat_minor": 0,
  "metadata": {
    "colab": {
      "name": "udf_colab.ipynb",
      "version": "0.3.2",
      "provenance": [],
      "include_colab_link": true
    },
    "language_info": {
      "codemirror_mode": {
        "name": "ipython",
        "version": 3
      },
      "file_extension": ".py",
      "mimetype": "text/x-python",
      "name": "python",
      "nbconvert_exporter": "python",
      "pygments_lexer": "ipython3",
      "version": "3.6.4"
    },
    "kernelspec": {
      "display_name": "Python 3",
      "language": "python",
      "name": "python3"
    }
  },
  "cells": [
    {
      "cell_type": "markdown",
      "metadata": {
        "id": "view-in-github",
        "colab_type": "text"
      },
      "source": [
        "<a href=\"https://colab.research.google.com/github/darstsharon/Aliens-Are-Real/blob/master/udf_colab.ipynb\" target=\"_parent\"><img src=\"https://colab.research.google.com/assets/colab-badge.svg\" alt=\"Open In Colab\"/></a>"
      ]
    },
    {
      "cell_type": "code",
      "metadata": {
        "id": "6XjS1ZxMx_sp",
        "colab_type": "code",
        "colab": {}
      },
      "source": [
        "import os\n",
        "os.environ[\"JAVA_HOME\"] = \"/usr/lib/jvm/java-8-openjdk-amd64\"\n",
        "os.environ[\"SPARK_HOME\"] = \"/content/spark-2.4.3-bin-hadoop2.7\"\n",
        "import findspark\n",
        "findspark.init()"
      ],
      "execution_count": 0,
      "outputs": []
    },
    {
      "cell_type": "code",
      "metadata": {
        "id": "sVeZ1mOSyB3C",
        "colab_type": "code",
        "colab": {}
      },
      "source": [
        "from pyspark.sql import SparkSession\n",
        "spark = SparkSession \\\n",
        "    .builder \\\n",
        "    .appName(\"activity_2\") \\\n",
        "    .getOrCreate()"
      ],
      "execution_count": 0,
      "outputs": []
    },
    {
      "cell_type": "code",
      "metadata": {
        "id": "3lKlFlZ1x_BK",
        "colab_type": "code",
        "colab": {}
      },
      "source": [
        "from pyspark.ml.feature import Tokenizer\n",
        "from pyspark.sql.functions import col, udf\n",
        "from pyspark.sql.types import IntegerType"
      ],
      "execution_count": 0,
      "outputs": []
    },
    {
      "cell_type": "code",
      "metadata": {
        "id": "ZJ226Zumx_BM",
        "colab_type": "code",
        "outputId": "c7575465-275f-46f0-c653-41aa178140d8",
        "colab": {
          "base_uri": "https://localhost:8080/",
          "height": 175
        }
      },
      "source": [
        "dataframe = spark.createDataFrame([\n",
        "    (0, \"Mary had a little lamb\"),\n",
        "    (1, \"It's fleece was white as snow\"),\n",
        "    (2, \"And everywhere Mary went\"),\n",
        "    (3, \"The lamb was sure to go\")\n",
        "], [\"id\", \"Nursery Rhyme\"])\n",
        "dataframe.show()"
      ],
      "execution_count": 4,
      "outputs": [
        {
          "output_type": "stream",
          "text": [
            "+---+--------------------+\n",
            "| id|       Nursery Rhyme|\n",
            "+---+--------------------+\n",
            "|  0|Mary had a little...|\n",
            "|  1|It's fleece was w...|\n",
            "|  2|And everywhere Ma...|\n",
            "|  3|The lamb was sure...|\n",
            "+---+--------------------+\n",
            "\n"
          ],
          "name": "stdout"
        }
      ]
    },
    {
      "cell_type": "code",
      "metadata": {
        "id": "sDkTIV0Qx_BQ",
        "colab_type": "code",
        "outputId": "1b63bb21-4b06-45de-86ec-9acdcda72f32",
        "colab": {
          "base_uri": "https://localhost:8080/",
          "height": 34
        }
      },
      "source": [
        "# Tokenize word\n",
        "tokenizer = Tokenizer(inputCol=\"Nursery Rhyme\", outputCol=\"words\")\n",
        "tokenizer"
      ],
      "execution_count": 5,
      "outputs": [
        {
          "output_type": "execute_result",
          "data": {
            "text/plain": [
              "Tokenizer_0bed034d36b1"
            ]
          },
          "metadata": {
            "tags": []
          },
          "execution_count": 5
        }
      ]
    },
    {
      "cell_type": "code",
      "metadata": {
        "id": "546kq8Ctx_BS",
        "colab_type": "code",
        "colab": {}
      },
      "source": [
        "# Create a function to return the length of a list\n",
        "def word_list_length(word_list):\n",
        "    return len(word_list)"
      ],
      "execution_count": 0,
      "outputs": []
    },
    {
      "cell_type": "code",
      "metadata": {
        "id": "A5CG4AYHx_BU",
        "colab_type": "code",
        "outputId": "8a5a64ad-16bc-4983-9611-23721da5437d",
        "colab": {
          "base_uri": "https://localhost:8080/",
          "height": 34
        }
      },
      "source": [
        "# Create a user defined function \n",
        "count_tokens = udf(word_list_length, IntegerType())\n",
        "count_tokens"
      ],
      "execution_count": 7,
      "outputs": [
        {
          "output_type": "execute_result",
          "data": {
            "text/plain": [
              "<function __main__.word_list_length>"
            ]
          },
          "metadata": {
            "tags": []
          },
          "execution_count": 7
        }
      ]
    },
    {
      "cell_type": "code",
      "metadata": {
        "id": "5DOiyhacx_BW",
        "colab_type": "code",
        "outputId": "ebf340e2-e163-4108-b7c6-926ccfbbe32b",
        "colab": {
          "base_uri": "https://localhost:8080/",
          "height": 175
        }
      },
      "source": [
        "# Transform DataFrame\n",
        "tokenized = tokenizer.transform(dataframe)\n",
        "\n",
        "# Select the needed columns and don't truncate results\n",
        "tokenized.select(\"Nursery Rhyme\", \"words\")\\\n",
        "    .withColumn(\"tokens\", count_tokens(\"words\")).show(truncate=False)"
      ],
      "execution_count": 8,
      "outputs": [
        {
          "output_type": "stream",
          "text": [
            "+-----------------------------+------------------------------------+------+\n",
            "|Nursery Rhyme                |words                               |tokens|\n",
            "+-----------------------------+------------------------------------+------+\n",
            "|Mary had a little lamb       |[mary, had, a, little, lamb]        |5     |\n",
            "|It's fleece was white as snow|[it's, fleece, was, white, as, snow]|6     |\n",
            "|And everywhere Mary went     |[and, everywhere, mary, went]       |4     |\n",
            "|The lamb was sure to go      |[the, lamb, was, sure, to, go]      |6     |\n",
            "+-----------------------------+------------------------------------+------+\n",
            "\n"
          ],
          "name": "stdout"
        }
      ]
    },
    {
      "cell_type": "code",
      "metadata": {
        "id": "yc89k1vDyIi9",
        "colab_type": "code",
        "colab": {}
      },
      "source": [
        ""
      ],
      "execution_count": 0,
      "outputs": []
    }
  ]
}